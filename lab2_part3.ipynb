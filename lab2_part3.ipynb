{
 "cells": [
  {
   "cell_type": "code",
   "execution_count": 12,
   "id": "7f33c6d2-ed71-46f5-b7b9-6f89a8980a87",
   "metadata": {},
   "outputs": [
    {
     "name": "stdout",
     "output_type": "stream",
     "text": [
      "Accuracy: 0.96\n",
      "Classification Report:\n",
      "               precision    recall  f1-score   support\n",
      "\n",
      "           0       0.96      0.97      0.96     25494\n",
      "           1       0.95      0.93      0.94     16043\n",
      "\n",
      "    accuracy                           0.96     41537\n",
      "   macro avg       0.95      0.95      0.95     41537\n",
      "weighted avg       0.96      0.96      0.96     41537\n",
      "\n"
     ]
    }
   ],
   "source": [
    "import pandas as pd\n",
    "from sklearn.model_selection import train_test_split\n",
    "from sklearn.preprocessing import StandardScaler\n",
    "from sklearn.linear_model import LogisticRegression\n",
    "from sklearn.metrics import accuracy_score, classification_report\n",
    "\n",
    "# Classifier 1: Logistic Model\n",
    "\n",
    "file_path = \"data_final.csv\"\n",
    "df = pd.read_csv(file_path)\n",
    "\n",
    "# Ensure the variable \"label\" is binary (1: Cloud, 0: no cloud)\n",
    "df['Label'] = df['Label'].apply(lambda x: 0 if x == -1 else 1)\n",
    "\n",
    "X = df.drop(columns=['Label'])\n",
    "Y = df['Label']\n",
    "\n",
    "# Split dataset, 80% of them used for training and 20% of them used for testing\n",
    "X_train, X_test, Y_train, Y_test = train_test_split(X, Y, test_size=0.2, random_state=42)\n",
    "scaler = StandardScaler()\n",
    "X_train_scaled = scaler.fit_transform(X_train)\n",
    "X_test_scaled = scaler.transform(X_test)\n",
    "\n",
    "# Build logistic regression model, make prediction, and check accuracy\n",
    "log_model = LogisticRegression()\n",
    "log_model.fit(X_train_scaled, Y_train)\n",
    "Y_pred_log = log_model.predict(X_test_scaled)\n",
    "accuracy_log = accuracy_score(Y_test, Y_pred_log)\n",
    "\n",
    "print(f\"Logistic Model Accuracy: {accuracy_log:.2f}\")\n",
    "print(\"Classification Report:\\n\", classification_report(Y_test, Y_pred_log))\n"
   ]
  },
  {
   "cell_type": "code",
   "execution_count": 9,
   "id": "6c171776-b33e-4046-9704-9ea14945d163",
   "metadata": {},
   "outputs": [
    {
     "name": "stdout",
     "output_type": "stream",
     "text": [
      "Decision Tree Model Accuracy: 0.96\n",
      "Classification Report:\n",
      "               precision    recall  f1-score   support\n",
      "\n",
      "           0       0.98      0.98      0.98     25494\n",
      "           1       0.97      0.97      0.97     16043\n",
      "\n",
      "    accuracy                           0.98     41537\n",
      "   macro avg       0.98      0.98      0.98     41537\n",
      "weighted avg       0.98      0.98      0.98     41537\n",
      "\n",
      "Best Hyperparameters: {'max_depth': None, 'min_samples_split': 2}\n",
      "Best Accuracy Score: 0.9767551049809378\n"
     ]
    }
   ],
   "source": [
    "# Classifier 2: Decision Tree\n",
    "\n",
    "from sklearn.model_selection import train_test_split, GridSearchCV\n",
    "from sklearn.tree import DecisionTreeClassifier\n",
    "\n",
    "# Build decision tree classifier, make prediction, and check accuracy\n",
    "decitree = DecisionTreeClassifier(criterion='gini', random_state=42)\n",
    "decitree.fit(X_train_scaled, Y_train)\n",
    "Y_pred_dec = decitree.predict(X_test_scaled)\n",
    "accuracy_dec = accuracy_score(Y_test, Y_pred_dec)\n",
    "\n",
    "print(f\"Decision Tree Model Accuracy: {accuracy:.2f}\")\n",
    "print(\"Classification Report:\\n\", classification_report(Y_test, Y_pred_dec))\n",
    "\n",
    "# Tuning Hyperparameter and search for the best parameter for the decision tree\n",
    "param_grid = {\n",
    "    'max_depth': [2, 5, 10, None],   \n",
    "    'min_samples_split': [2, 5, 10] \n",
    "}\n",
    "\n",
    "grid_search = GridSearchCV(DecisionTreeClassifier(random_state=42), param_grid, cv=5, scoring='accuracy')\n",
    "grid_search.fit(X_train_scaled, Y_train)\n",
    "\n",
    "best_score = grid_search.best_score_\n",
    "\n",
    "print(\"Best Hyperparameters:\", grid_search.best_params_)\n",
    "print(f\"Best Accuracy Score: {best_score:.2f}\")\n"
   ]
  },
  {
   "cell_type": "code",
   "execution_count": 16,
   "id": "c91c05ef-8dda-4152-9120-b103f2bde63a",
   "metadata": {},
   "outputs": [
    {
     "name": "stdout",
     "output_type": "stream",
     "text": [
      "Model Accuracy: 0.96\n",
      "Classification Report:\n",
      "               precision    recall  f1-score   support\n",
      "\n",
      "           0       0.99      0.94      0.97     25494\n",
      "           1       0.92      0.99      0.95     16043\n",
      "\n",
      "    accuracy                           0.96     41537\n",
      "   macro avg       0.95      0.96      0.96     41537\n",
      "weighted avg       0.96      0.96      0.96     41537\n",
      "\n"
     ]
    }
   ],
   "source": [
    "# Classifier 3: Random Forest\n",
    "\n",
    "from sklearn.ensemble import RandomForestClassifier\n",
    "\n",
    "rf = RandomForestClassifier(n_estimators=200, max_depth=5, random_state=42)  \n",
    "rf.fit(X_train_scaled, Y_train)\n",
    "\n",
    "Y_pred_rf = rf.predict(X_test_scaled)\n",
    "Y_prob_rf = rf.predict_proba(X_test_scaled)[:, 1]\n",
    "\n",
    "accuracy = accuracy_score(Y_test, Y_pred_rf)\n",
    "print(f\"Random Forest Model Accuracy: {accuracy:.2f}\")\n",
    "print(\"Classification Report:\\n\", classification_report(Y_test, Y_pred_rf))"
   ]
  },
  {
   "cell_type": "code",
   "execution_count": null,
   "id": "33192b52-9f7c-44c9-b48a-e2faf7dd902e",
   "metadata": {},
   "outputs": [],
   "source": []
  }
 ],
 "metadata": {
  "kernelspec": {
   "display_name": "Python 3 (ipykernel)",
   "language": "python",
   "name": "python3"
  },
  "language_info": {
   "codemirror_mode": {
    "name": "ipython",
    "version": 3
   },
   "file_extension": ".py",
   "mimetype": "text/x-python",
   "name": "python",
   "nbconvert_exporter": "python",
   "pygments_lexer": "ipython3",
   "version": "3.11.11"
  }
 },
 "nbformat": 4,
 "nbformat_minor": 5
}
