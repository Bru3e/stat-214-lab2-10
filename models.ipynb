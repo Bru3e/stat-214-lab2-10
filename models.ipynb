{
 "cells": [
  {
   "cell_type": "code",
   "execution_count": 20,
   "metadata": {},
   "outputs": [
    {
     "name": "stdout",
     "output_type": "stream",
     "text": [
      "Combined data saved to data_final.csv\n"
     ]
    }
   ],
   "source": [
    "import pandas as pd\n",
    "import os\n",
    "\n",
    "csv_files = [\n",
    "    \"dataset\\\\O012791_merged.csv\",\n",
    "    \"dataset\\\\O013257_merged.csv\",\n",
    "    \"dataset\\\\O013490_merged.csv\"\n",
    "]\n",
    "\n",
    "dfs = []\n",
    "for file in csv_files:\n",
    "    df = pd.read_csv(file)\n",
    "    dfs.append(df)\n",
    "\n",
    "combined_df = pd.concat(dfs, ignore_index=True)\n",
    "\n",
    "combined_df = combined_df[combined_df[\"Label\"] != 0]\n",
    "cols = [col for col in combined_df.columns if col != \"Label\"] + [\"Label\"]\n",
    "combined_df = combined_df[cols]\n",
    "combined_df = combined_df.drop(columns=[\"patch_entropy\",\"x\",\"y\"])\n",
    "\n",
    "output_csv = \"data_final.csv\"\n",
    "combined_df.to_csv(output_csv, index=False)\n",
    "print(f\"Combined data saved to {output_csv}\")"
   ]
  },
  {
   "cell_type": "markdown",
   "metadata": {},
   "source": [
    "## Logistic Regression\n",
    "\n",
    "For the logistic regression, we need to check whether the multicollinearity is present in the data by checking the VIF values. If the VIF values are greater than 10, then we need to remove the variable from the data.\n",
    "\n",
    "Also the independence of each observation is assumed in the logistic regression. However, it is unlikely since our data comes from 3 plots so inevitably there will be some correlation between the observations especially within the same plot.\n",
    "\n"
   ]
  },
  {
   "cell_type": "code",
   "execution_count": null,
   "metadata": {},
   "outputs": [
    {
     "name": "stdout",
     "output_type": "stream",
     "text": [
      "        ae0       ae1       ae2       ae3       ae4       ae5       ae6  \\\n",
      "0  1.197294  0.266305  1.328071 -0.056179  0.472661  0.203686  0.002540   \n",
      "1  1.107397  0.192222  1.249997  0.009110  0.413045  0.060429  0.198304   \n",
      "2  1.184946  0.005137  1.192648  0.038367  0.350369 -0.243404  0.435510   \n",
      "3  1.413633 -0.091881  1.331789 -0.438865  0.169667 -0.417025  0.070926   \n",
      "4  1.523770 -0.253262  1.382754 -0.538834  0.197273 -0.352385 -0.096838   \n",
      "\n",
      "        ae7           SD      CORR  pca_feature  Label  combined_feature  \n",
      "0 -1.142211  2132.407715  0.586117     0.588225   -1.0          5.486118  \n",
      "1 -1.222439  2017.497681  0.710036     0.549978   -1.0          5.521759  \n",
      "2 -0.862849  3542.883057  0.904450     0.564661   -1.0          5.584542  \n",
      "3 -0.136777  3234.484619  0.775055     0.564672   -1.0          5.455872  \n",
      "4  0.156666  1751.852783  0.206298     0.594611   -1.0          5.580096  \n"
     ]
    }
   ],
   "source": [
    "from sklearn.preprocessing import StandardScaler\n",
    "from sklearn.decomposition import PCA\n",
    "\n",
    "data = pd.read_csv('data_final.csv')\n",
    "\n",
    "# For Logistic Regression, I tested and found that NDAI has a high VIF score\n",
    "# So I removed it from the dataset\n",
    "data = data.drop(columns=['NDAI'])\n",
    "\n",
    "# Also, I found that the 'grad_mean' and 'patch_range' have high VIF scores\n",
    "# Since they both measure the sparsity of the image, I combined them into one feature by PCA\n",
    "cols_to_scale = ['grad_mean', 'patch_range']\n",
    "pca = PCA(n_components=1)\n",
    "data['combined_feature'] = pca.fit_transform(data[cols_to_scale])\n",
    "data = data.drop(columns=cols_to_scale)\n",
    "\n",
    "print(data.head())\n"
   ]
  },
  {
   "cell_type": "code",
   "execution_count": 117,
   "metadata": {},
   "outputs": [
    {
     "name": "stdout",
     "output_type": "stream",
     "text": [
      "Data shape: (207681, 12)\n",
      "Training set: (124608, 12) Training positives: 48579\n",
      "Validation set: (41536, 12) Validation positives: 16193\n",
      "Test set: (41537, 12) Test positives: 16193\n"
     ]
    }
   ],
   "source": [
    "import pandas as pd\n",
    "from sklearn.model_selection import train_test_split\n",
    "\n",
    "\n",
    "X = data.drop('Label', axis=1)\n",
    "# Map labels from {-1, 1} to {0, 1} No cloud = 0, Cloud = 1\n",
    "y = data['Label'].map({-1.0: 0, 1.0: 1})  \n",
    "\n",
    "# 60% train, 20% validation, 20% test\n",
    "X_train, X_temp, y_train, y_temp = train_test_split(\n",
    "    X, y, test_size=0.4, stratify=y, random_state=928)\n",
    "X_val, X_test, y_val, y_test = train_test_split(\n",
    "    X_temp, y_temp, test_size=0.5, stratify=y_temp, random_state=910)\n",
    "\n",
    "print(\"Data shape:\", X.shape)\n",
    "print(\"Training set:\", X_train.shape, \"Training positives:\", y_train.sum())\n",
    "print(\"Validation set:\", X_val.shape, \"Validation positives:\", y_val.sum())\n",
    "print(\"Test set:\", X_test.shape, \"Test positives:\", y_test.sum())"
   ]
  },
  {
   "cell_type": "code",
   "execution_count": 118,
   "metadata": {},
   "outputs": [],
   "source": [
    "import numpy as np\n",
    "from sklearn.model_selection import RepeatedStratifiedKFold, cross_validate\n",
    "\n",
    "def evaluate_model(model, X, y, cv):\n",
    "    scoring = ['accuracy', 'roc_auc']\n",
    "    scores = cross_validate(model, X, y, cv=cv, scoring=scoring, n_jobs=-1)\n",
    "    return np.mean(scores['test_accuracy']), np.mean(scores['test_roc_auc'])\n",
    "\n",
    "# Set up 10-fold cross-validation repeated 10 times\n",
    "cv = RepeatedStratifiedKFold(n_splits=10, n_repeats=10, random_state=42)"
   ]
  },
  {
   "cell_type": "code",
   "execution_count": 142,
   "metadata": {},
   "outputs": [
    {
     "name": "stdout",
     "output_type": "stream",
     "text": [
      "Logistic Regression: Accuracy = 0.946, ROC AUC = 0.976\n",
      "Logistic Regression AIC: 45911.72792581551\n",
      "Coefficients:\n",
      "const   -0.399883\n",
      "x1       1.277707\n",
      "x2       0.747145\n",
      "x3      -0.515857\n",
      "x4      -1.409002\n",
      "x5       0.990292\n",
      "x6       2.308129\n",
      "x7      -0.779696\n",
      "x8      -0.390488\n",
      "x9       0.219690\n",
      "x10      0.383890\n",
      "x11     -1.766049\n",
      "x12      0.248748\n",
      "dtype: float64\n",
      "             feature  mean_importance  std_importance\n",
      "10       pca_feature         0.133097        0.000888\n",
      "5                ae5         0.097937        0.001671\n",
      "0                ae0         0.052225        0.001476\n",
      "3                ae3         0.039843        0.000612\n",
      "4                ae4         0.022306        0.000794\n",
      "6                ae6         0.018697        0.000636\n",
      "1                ae1         0.012038        0.000583\n",
      "7                ae7         0.006240        0.000423\n",
      "9               CORR         0.004461        0.000442\n",
      "2                ae2         0.004102        0.000326\n",
      "8                 SD         0.001396        0.000249\n",
      "11  combined_feature         0.001392        0.000330\n"
     ]
    }
   ],
   "source": [
    "from sklearn.pipeline import Pipeline\n",
    "from sklearn.preprocessing import StandardScaler\n",
    "from sklearn.linear_model import LogisticRegression\n",
    "import statsmodels.api as sm\n",
    "from sklearn.inspection import permutation_importance\n",
    "# Logistic Regression model\n",
    "lr_pipeline = Pipeline([('scaler', StandardScaler()),('clf', LogisticRegression(solver='lbfgs', max_iter=500, random_state=635))])\n",
    "lr_acc, lr_auc = evaluate_model(lr_pipeline, X_train, y_train, cv)\n",
    "print(f\"Logistic Regression: Accuracy = {lr_acc:.3f}, ROC AUC = {lr_auc:.3f}\")\n",
    "\n",
    "# Calculate AIC\n",
    "X_train_sm = sm.add_constant(StandardScaler().fit_transform(X_train))\n",
    "lr_model_sm = sm.Logit(y_train, X_train_sm).fit(disp=0)\n",
    "print(\"Logistic Regression AIC:\", lr_model_sm.aic)\n",
    "\n",
    "# The Coefficients of the logistic regression model\n",
    "print('Coefficients:')\n",
    "print(lr_model_sm.params)\n",
    "\n",
    "# Permuation Importance\n",
    "\n",
    "# PCA_feature is the proportion of variance explained by the first PC in the patch\n",
    "lr_pipeline.fit(X_train, y_train)\n",
    "lr_perm = permutation_importance(lr_pipeline, X_val, y_val, n_repeats=10, random_state=313, n_jobs=-1)\n",
    "importances_df_lr = pd.DataFrame({\n",
    "    'feature': X.columns,\n",
    "    'mean_importance': lr_perm['importances_mean'],\n",
    "    'std_importance': lr_perm['importances_std']\n",
    "}).sort_values('mean_importance', ascending=False)\n",
    "print(importances_df_lr)"
   ]
  },
  {
   "cell_type": "code",
   "execution_count": null,
   "metadata": {},
   "outputs": [
    {
     "name": "stdout",
     "output_type": "stream",
     "text": [
      "             feature  odds_ratio\n",
      "6                ae5   10.055595\n",
      "1                ae0    3.588403\n",
      "5                ae4    2.692022\n",
      "2                ae1    2.110965\n",
      "10              CORR    1.467983\n",
      "12  combined_feature    1.282419\n",
      "9                 SD    1.245691\n",
      "8                ae7    0.676726\n",
      "0          Intercept    0.670399\n",
      "3                ae2    0.596989\n",
      "7                ae6    0.458545\n",
      "4                ae3    0.244387\n",
      "11       pca_feature    0.171007\n"
     ]
    }
   ],
   "source": [
    "import pandas as pd\n",
    "import numpy as np\n",
    "\n",
    "odds_ratios = np.exp(lr_model_sm.params)\n",
    "odds_ratio_df = pd.DataFrame({\n",
    "    'feature': ['Intercept'] + list(X.columns), \n",
    "    'odds_ratio': odds_ratios.values\n",
    "})\n",
    "\n",
    "odds_ratio_df = odds_ratio_df.sort_values('odds_ratio', ascending=False)\n",
    "print(odds_ratio_df)"
   ]
  },
  {
   "cell_type": "code",
   "execution_count": 125,
   "metadata": {},
   "outputs": [
    {
     "name": "stdout",
     "output_type": "stream",
     "text": [
      "            Variable       VIF\n",
      "0                ae0  5.212471\n",
      "1                ae1  1.302319\n",
      "2                ae2  2.324032\n",
      "3                ae3  1.215550\n",
      "4                ae4  1.372865\n",
      "5                ae5  1.723747\n",
      "6                ae6  1.154074\n",
      "7                ae7  1.301371\n",
      "8                 SD  4.657606\n",
      "9               CORR  3.338389\n",
      "10       pca_feature  7.769249\n",
      "11  combined_feature  3.437804\n"
     ]
    }
   ],
   "source": [
    "from statsmodels.stats.outliers_influence import variance_inflation_factor\n",
    "\n",
    "# Calculate VIF for finding multicollinearity\n",
    "vif = pd.DataFrame()\n",
    "vif[\"Variable\"] = X_train.columns\n",
    "vif[\"VIF\"] = [variance_inflation_factor(X_train.values, i) for i in range(X_train.shape[1])]\n",
    "print(vif)\n"
   ]
  },
  {
   "cell_type": "markdown",
   "metadata": {},
   "source": [
    "# Decision Tree\n",
    "\n"
   ]
  },
  {
   "cell_type": "code",
   "execution_count": 127,
   "metadata": {},
   "outputs": [
    {
     "name": "stdout",
     "output_type": "stream",
     "text": [
      "Fitting 100 folds for each of 12 candidates, totalling 1200 fits\n",
      "Best hyperparameters: {'max_depth': 10, 'min_samples_leaf': 5, 'min_samples_split': 5}\n",
      "Best ROC AUC score from CV: 0.9891962482866639\n",
      "Best Decision Tree on Validation Set: Accuracy = 0.9696648690292758 , ROC AUC = 0.9895687561396111\n"
     ]
    }
   ],
   "source": [
    "from sklearn.tree import DecisionTreeClassifier\n",
    "from sklearn.model_selection import GridSearchCV, RepeatedStratifiedKFold\n",
    "from sklearn.metrics import accuracy_score, roc_auc_score\n",
    "\n",
    "# Select a few hyperparameters\n",
    "param_grid = {\n",
    "    'max_depth': [10, 15, 20],\n",
    "    'min_samples_split': [5, 10],\n",
    "    'min_samples_leaf': [3, 5]}\n",
    "\n",
    "# Decision Tree model\n",
    "dt_model = DecisionTreeClassifier(random_state=2001)\n",
    "cv = RepeatedStratifiedKFold(n_splits=10, n_repeats=10, random_state= 918)\n",
    "\n",
    "# Setup GridSearchCV to tune hyperparameters based on ROC AUC.\n",
    "grid_search = GridSearchCV(\n",
    "    estimator=dt_model,\n",
    "    param_grid=param_grid,\n",
    "    scoring='roc_auc',\n",
    "    cv=cv,\n",
    "    n_jobs=-1,\n",
    "    verbose=1\n",
    "    )\n",
    "\n",
    "grid_search.fit(X_train, y_train)\n",
    "print(\"Best hyperparameters:\", grid_search.best_params_)\n",
    "print(\"Best ROC AUC score from CV:\", grid_search.best_score_)\n",
    "\n",
    "# Evaluate the best model on the validation set.\n",
    "best_dt_model = grid_search.best_estimator_\n",
    "y_val_pred = best_dt_model.predict(X_val)\n",
    "y_val_score = best_dt_model.predict_proba(X_val)[:, 1]\n",
    "val_acc = accuracy_score(y_val, y_val_pred)\n",
    "val_auc = roc_auc_score(y_val, y_val_score)\n",
    "print(\"Best Decision Tree on Validation Set: Accuracy =\", val_acc, \", ROC AUC =\", val_auc)"
   ]
  },
  {
   "cell_type": "code",
   "execution_count": null,
   "metadata": {},
   "outputs": [],
   "source": []
  },
  {
   "cell_type": "code",
   "execution_count": 128,
   "metadata": {},
   "outputs": [
    {
     "name": "stdout",
     "output_type": "stream",
     "text": [
      "Decision Tree: Accuracy = 0.968, ROC AUC = 0.989\n",
      "             feature  mean_importance  std_importance\n",
      "8                 SD         0.132738        0.001971\n",
      "5                ae5         0.064664        0.001284\n",
      "0                ae0         0.046362        0.000981\n",
      "9               CORR         0.038591        0.000686\n",
      "11  combined_feature         0.026555        0.000620\n",
      "4                ae4         0.021439        0.000251\n",
      "3                ae3         0.016646        0.000589\n",
      "6                ae6         0.013793        0.000252\n",
      "7                ae7         0.011299        0.000422\n",
      "2                ae2         0.009832        0.000352\n",
      "10       pca_feature         0.009202        0.000416\n",
      "1                ae1         0.001452        0.000133\n"
     ]
    }
   ],
   "source": [
    "#Use the best hyperparameters to train the model\n",
    "dt_model_best = DecisionTreeClassifier(max_depth=10, min_samples_leaf=5, min_samples_split=5, random_state=200)\n",
    "dt_pipeline = Pipeline([('scaler', StandardScaler()),('clf', dt_model_best)])\n",
    "dt_acc, dt_auc = evaluate_model(dt_pipeline, X_train, y_train, cv)\n",
    "print(f\"Decision Tree: Accuracy = {dt_acc:.3f}, ROC AUC = {dt_auc:.3f}\")\n",
    "\n",
    "# Permuation Importance\n",
    "dt_pipeline.fit(X_train, y_train)\n",
    "dt_perm = permutation_importance(dt_pipeline, X_val, y_val, n_repeats=10, random_state=313, n_jobs=-1)\n",
    "importances_df_dt = pd.DataFrame({\n",
    "    'feature': X.columns,\n",
    "    'mean_importance': dt_perm['importances_mean'],\n",
    "    'std_importance': dt_perm['importances_std']\n",
    "}).sort_values('mean_importance', ascending=False)\n",
    "print(importances_df_dt)\n"
   ]
  },
  {
   "cell_type": "code",
   "execution_count": null,
   "metadata": {},
   "outputs": [
    {
     "name": "stdout",
     "output_type": "stream",
     "text": [
      "\n",
      "MDI Feature Importances:\n"
     ]
    },
    {
     "data": {
      "image/png": "[encoded data removed]",
      "text/plain": [
       "<Figure size 1000x600 with 1 Axes>"
      ]
     },
     "metadata": {},
     "output_type": "display_data"
    }
   ],
   "source": [
    "# MDI+ \n",
    "import seaborn as sns\n",
    "import matplotlib.pyplot as plt\n",
    "\n",
    "mdi_importances = dt_pipeline.named_steps['clf'].feature_importances_\n",
    "\n",
    "importances_df_mdi = pd.DataFrame({\n",
    "    'feature': X.columns,\n",
    "    'mdi_importance': mdi_importances\n",
    "}).sort_values('mdi_importance', ascending=False)\n",
    "\n",
    "print(\"\\nMDI Feature Importances:\")\n",
    "sns.set_theme(style=\"whitegrid\", context=\"talk\")\n",
    "\n",
    "fig, ax = plt.subplots(figsize=(10, 6))\n",
    "sns.barplot(data=importances_df_mdi, x='mdi_importance', y='feature', ax=ax, palette='viridis')\n",
    "ax.set_title('Decision Tree Feature Importance (MDI)', fontsize=16)\n",
    "ax.set_xlabel('MDI Importance', fontsize=14)\n",
    "ax.set_ylabel('Feature', fontsize=14)\n",
    "plt.tight_layout()\n",
    "plt.show()"
   ]
  },
  {
   "cell_type": "code",
   "execution_count": 129,
   "metadata": {},
   "outputs": [
    {
     "name": "stdout",
     "output_type": "stream",
     "text": [
      "Neural Network CV: Accuracy = 0.989, ROC AUC = 0.999\n",
      "Neural Network on Validation Set: Accuracy = 0.9890937981510015 ROC AUC = 0.9993408681515555\n"
     ]
    }
   ],
   "source": [
    "from sklearn.neural_network import MLPClassifier\n",
    "\n",
    "# Neural Network model\n",
    "nn_pipeline = Pipeline([\n",
    "    ('scaler', StandardScaler()),\n",
    "    ('clf', MLPClassifier(hidden_layer_sizes=(50,), max_iter=200, random_state=42))\n",
    "])\n",
    "\n",
    "# Cross-validate the Neural Network.\n",
    "nn_acc, nn_auc = evaluate_model(nn_pipeline, X_train, y_train, cv)\n",
    "print(f\"Neural Network CV: Accuracy = {nn_acc:.3f}, ROC AUC = {nn_auc:.3f}\")\n",
    "\n",
    "# Fit the MLP on the training set and evaluate on the validation set.\n",
    "nn_pipeline.fit(X_train, y_train)\n",
    "y_val_pred = nn_pipeline.predict(X_val)\n",
    "if hasattr(nn_pipeline, \"predict_proba\"):\n",
    "    y_val_score = nn_pipeline.predict_proba(X_val)[:, 1]\n",
    "else:\n",
    "    y_val_score = nn_pipeline.decision_function(X_val)\n",
    "print(\"Neural Network on Validation Set: Accuracy =\", accuracy_score(y_val, y_val_pred),\n",
    "      \"ROC AUC =\", roc_auc_score(y_val, y_val_score))\n",
    "\n"
   ]
  },
  {
   "cell_type": "code",
   "execution_count": 134,
   "metadata": {},
   "outputs": [
    {
     "name": "stdout",
     "output_type": "stream",
     "text": [
      "             feature  mean_importance  std_importance\n",
      "0                ae0         0.185442        0.002063\n",
      "5                ae5         0.082454        0.001209\n",
      "11  combined_feature         0.054343        0.001235\n",
      "2                ae2         0.043825        0.000618\n",
      "4                ae4         0.039248        0.000907\n",
      "3                ae3         0.029675        0.000499\n",
      "7                ae7         0.028202        0.000829\n",
      "10       pca_feature         0.027634        0.000609\n",
      "8                 SD         0.027083        0.000663\n",
      "6                ae6         0.025701        0.000658\n",
      "1                ae1         0.016097        0.000799\n",
      "9               CORR         0.013172        0.000457\n"
     ]
    }
   ],
   "source": [
    "# Permuation Importance for NN\n",
    "\n",
    "nn_perm = permutation_importance(nn_pipeline, X_val, y_val, n_repeats=10, random_state=313, n_jobs=-1)\n",
    "importances_df_nn = pd.DataFrame({\n",
    "    'feature': X.columns,\n",
    "    'mean_importance': nn_perm['importances_mean'],\n",
    "    'std_importance': nn_perm['importances_std']\n",
    "}).sort_values('mean_importance', ascending=False)\n",
    "print(importances_df_nn)\n"
   ]
  },
  {
   "cell_type": "markdown",
   "metadata": {},
   "source": [
    "AE5 and AE0 are two of the most important features in the dataset across all the models we have."
   ]
  },
  {
   "cell_type": "markdown",
   "metadata": {},
   "source": [
    "Leave-one-out cross-validation is used to evaluate the model performance. The model is trained on n-1 observations and tested on the remaining observation. Since we have only 3 plots, we can use this method to evaluate the model performance."
   ]
  },
  {
   "cell_type": "code",
   "execution_count": null,
   "metadata": {},
   "outputs": [
    {
     "name": "stdout",
     "output_type": "stream",
     "text": [
      "Modified data saved to dataset\\O012791_modified.csv\n",
      "Modified data saved to dataset\\O013257_modified.csv\n",
      "Modified data saved to dataset\\O013490_modified.csv\n"
     ]
    }
   ],
   "source": [
    "csv_files = [\n",
    "    \"dataset\\\\O012791_merged.csv\",\n",
    "    \"dataset\\\\O013257_merged.csv\",\n",
    "    \"dataset\\\\O013490_merged.csv\"\n",
    "] \n",
    "\n",
    "for file in csv_files:\n",
    "    df = pd.read_csv(file)\n",
    "    df = df[df[\"Label\"] != 0]\n",
    "    cols = [col for col in df.columns if col != \"Label\"] + [\"Label\"]\n",
    "    df = df[cols]\n",
    "    df = df.drop(columns=[\"patch_entropy\", \"x\", \"y\"], errors='ignore')\n",
    "    output_file = f\"{file.replace('_merged.csv', '_modified.csv').split('/')[-1]}\"  \n",
    "    df.to_csv(output_file, index=False)\n",
    "    print(f\"Modified data saved to {output_file}\")\n"
   ]
  },
  {
   "cell_type": "code",
   "execution_count": 148,
   "metadata": {},
   "outputs": [
    {
     "name": "stdout",
     "output_type": "stream",
     "text": [
      "Logistic Regression: Accuracy = 0.939, ROC AUC = 0.969\n",
      "Logistic Regression AIC: 42792.601602846284\n",
      "Coefficients:\n",
      "const   -1.195738\n",
      "x1       0.956908\n",
      "x2       0.609573\n",
      "x3      -1.021680\n",
      "x4      -1.295837\n",
      "x5       0.673976\n",
      "x6       1.495345\n",
      "x7      -0.794330\n",
      "x8      -0.341797\n",
      "x9       0.056143\n",
      "x10     -0.195726\n",
      "x11      0.554830\n",
      "x12     -1.336416\n",
      "x13      2.140200\n",
      "x14     -0.789753\n",
      "dtype: float64\n",
      "        feature  mean_importance  std_importance\n",
      "12    grad_mean         0.135143        0.002140\n",
      "11  pca_feature         0.089347        0.001133\n",
      "5           ae5         0.063905        0.000957\n",
      "3           ae3         0.042074        0.001029\n",
      "0           ae0         0.031310        0.000865\n",
      "6           ae6         0.021803        0.000961\n",
      "2           ae2         0.016752        0.000728\n",
      "4           ae4         0.011549        0.000690\n",
      "1           ae1         0.011246        0.000634\n",
      "13  patch_range         0.008352        0.000915\n",
      "10         CORR         0.007416        0.000940\n",
      "7           ae7         0.004670        0.000577\n",
      "8          NDAI         0.000510        0.000195\n",
      "9            SD         0.000346        0.000544\n"
     ]
    }
   ],
   "source": [
    "train_val_files = [\n",
    "    \"C:/Users/lenovo/Desktop/stats214/lab2wzh/dataset/O012791_modified.csv\",\n",
    "    \"C:/Users/lenovo/Desktop/stats214/lab2wzh/dataset/O013257_modified.csv\"\n",
    "]\n",
    "test_file = \"C:/Users/lenovo/Desktop/stats214/lab2wzh/dataset/O013490_modified.csv\"\n",
    "\n",
    "# We use the first two datasets for training and validation\n",
    "# The third dataset is used for testing\n",
    "train_val_df = pd.concat([pd.read_csv(file) for file in train_val_files], ignore_index=True)\n",
    "test_df = pd.read_csv(test_file)\n",
    "\n",
    "\n",
    "X = train_val_df.drop('Label', axis=1)\n",
    "y = train_val_df['Label'].map({-1.0: 0, 1.0: 1}) \n",
    "\n",
    "# 80% train, 20% validation\n",
    "X_train, X_val, y_train, y_val = train_test_split(X, y, test_size=0.2, random_state=42, stratify=y)\n",
    "X_test = test_df.drop('Label', axis=1)\n",
    "y_test = test_df['Label'].map({-1.0: 0, 1.0: 1})\n",
    "\n",
    "def evaluate_model(model, X, y, cv):\n",
    "    scoring = ['accuracy', 'roc_auc']\n",
    "    scores = cross_validate(model, X, y, cv=cv, scoring=scoring, n_jobs=-1)\n",
    "    return np.mean(scores['test_accuracy']), np.mean(scores['test_roc_auc'])\n",
    "\n",
    "cv = RepeatedStratifiedKFold(n_splits=10, n_repeats=10, random_state=42)\n",
    "lr_pipeline = Pipeline([('scaler', StandardScaler()), ('clf', LogisticRegression(solver='lbfgs', max_iter=500, random_state=635))])\n",
    "\n",
    "lr_acc, lr_auc = evaluate_model(lr_pipeline, X_train, y_train, cv)\n",
    "print(f\"Logistic Regression: Accuracy = {lr_acc:.3f}, ROC AUC = {lr_auc:.3f}\")\n",
    "X_train_sm = sm.add_constant(StandardScaler().fit_transform(X_train))\n",
    "lr_model_sm = sm.Logit(y_train, X_train_sm).fit(disp=0)\n",
    "print(\"Logistic Regression AIC:\", lr_model_sm.aic)\n",
    "\n",
    "print('Coefficients:')\n",
    "print(lr_model_sm.params)\n",
    "\n",
    "lr_pipeline.fit(X_train, y_train)\n",
    "lr_perm = permutation_importance(lr_pipeline, X_val, y_val, n_repeats=10, random_state=313, n_jobs=-1)\n",
    "importances_df_lr = pd.DataFrame({\n",
    "    'feature': X.columns,\n",
    "    'mean_importance': lr_perm['importances_mean'],\n",
    "    'std_importance': lr_perm['importances_std']\n",
    "}).sort_values('mean_importance', ascending=False)\n",
    "\n",
    "print(importances_df_lr)"
   ]
  },
  {
   "cell_type": "code",
   "execution_count": null,
   "metadata": {},
   "outputs": [],
   "source": []
  },
  {
   "cell_type": "code",
   "execution_count": null,
   "metadata": {},
   "outputs": [],
   "source": []
  },
  {
   "cell_type": "code",
   "execution_count": null,
   "metadata": {},
   "outputs": [],
   "source": []
  }
 ],
 "metadata": {
  "kernelspec": {
   "display_name": "base",
   "language": "python",
   "name": "python3"
  },
  "language_info": {
   "codemirror_mode": {
    "name": "ipython",
    "version": 3
   },
   "file_extension": ".py",
   "mimetype": "text/x-python",
   "name": "python",
   "nbconvert_exporter": "python",
   "pygments_lexer": "ipython3",
   "version": "3.9.13"
  }
 },
 "nbformat": 4,
 "nbformat_minor": 2
}
