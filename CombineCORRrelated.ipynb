{
 "cells": [
  {
   "cell_type": "code",
   "execution_count": 1,
   "metadata": {},
   "outputs": [
    {
     "name": "stdout",
     "output_type": "stream",
     "text": [
      "Result: O012791_updated.csv\n",
      "Result: O013257_updated.csv\n",
      "Result: O013490_updated.csv\n",
      "All Done\n"
     ]
    }
   ],
   "source": [
    "import numpy as np\n",
    "import pandas as pd\n",
    "import os\n",
    "\n",
    "csv_files = {\n",
    "    \"O012791\": \"C:\\\\Users\\\\lenovo\\\\Desktop\\\\stats214\\\\lab2wzh\\\\O012791.csv\",\n",
    "    \"O013257\": \"C:\\\\Users\\\\lenovo\\\\Desktop\\\\stats214\\\\lab2wzh\\\\O013257.csv\",\n",
    "    \"O013490\": \"C:\\\\Users\\\\lenovo\\\\Desktop\\\\stats214\\\\lab2wzh\\\\O013490.csv\"\n",
    "}\n",
    "\n",
    "npz_files = {\n",
    "    \"O012791\": \"C:\\\\Users\\\\lenovo\\\\Desktop\\\\stats214\\\\lab2wzh\\\\image_data\\\\O012791.npz\",\n",
    "    \"O013257\": \"C:\\\\Users\\\\lenovo\\\\Desktop\\\\stats214\\\\lab2wzh\\\\image_data\\\\O013257.npz\",\n",
    "    \"O013490\": \"C:\\\\Users\\\\lenovo\\\\Desktop\\\\stats214\\\\lab2wzh\\\\image_data\\\\O013490.npz\"\n",
    "}\n",
    "\n",
    "for key in csv_files.keys():\n",
    "    csv_path = csv_files[key]\n",
    "    df = pd.read_csv(csv_path)\n",
    "    npz_path = npz_files[key]\n",
    "    npz_data = np.load(npz_path)\n",
    "    npz_array = npz_data[npz_data.files[0]]  \n",
    "    extracted_columns = npz_array[:, [2, 3, 4]]  \n",
    "    df[['NDAI', 'SD', 'CORR']] = extracted_columns\n",
    "    output_path = f\"{key}_updated.csv\"\n",
    "    df.to_csv(output_path, index=False)\n",
    "    \n",
    "    print(f\"Result: {output_path}\")\n",
    "\n",
    "print(\"All Done\")\n"
   ]
  },
  {
   "cell_type": "code",
   "execution_count": 1,
   "metadata": {},
   "outputs": [],
   "source": [
    "import pandas as pd\n",
    "\n",
    "file_12791 = \"C:\\\\Users\\\\lenovo\\\\Desktop\\\\stats214\\\\lab2wzh\\\\preciousdata\\\\12791.csv\"\n",
    "file_13257 = \"C:\\\\Users\\\\lenovo\\\\Desktop\\\\stats214\\\\lab2wzh\\\\preciousdata\\\\13257.csv\"\n",
    "file_13490 = \"C:\\\\Users\\\\lenovo\\\\Desktop\\\\stats214\\\\lab2wzh\\\\preciousdata\\\\13490.csv\"\n",
    "\n",
    "file_O012791 = \"C:\\\\Users\\\\lenovo\\\\Desktop\\\\stats214\\\\lab2wzh\\\\preciousdata\\\\O012791_updated.csv\"\n",
    "file_O013257 = \"C:\\\\Users\\\\lenovo\\\\Desktop\\\\stats214\\\\lab2wzh\\\\preciousdata\\\\O013257_updated.csv\"\n",
    "file_O013490 = \"C:\\\\Users\\\\lenovo\\\\Desktop\\\\stats214\\\\lab2wzh\\\\preciousdata\\\\O013490_updated.csv\"\n",
    "\n",
    "df_12791 = pd.read_csv(file_12791)\n",
    "df_13257 = pd.read_csv(file_13257)\n",
    "df_13490 = pd.read_csv(file_13490)\n",
    "\n",
    "df_O012791 = pd.read_csv(file_O012791)\n",
    "df_O013257 = pd.read_csv(file_O013257)\n",
    "df_O013490 = pd.read_csv(file_O013490)\n",
    "\n",
    "def merge_last_columns(df_source, df_target):\n",
    "    cols_to_merge = df_source.columns[-5:]  \n",
    "    df_merged = df_target.copy()\n",
    "    df_merged = df_merged.merge(df_source[cols_to_merge], left_index=True, right_index=True, how='left')\n",
    "\n",
    "    return df_merged\n",
    "\n",
    "df_O012791_merged = merge_last_columns(df_12791, df_O012791)\n",
    "df_O013257_merged = merge_last_columns(df_13257, df_O013257)\n",
    "df_O013490_merged = merge_last_columns(df_13490, df_O013490)\n",
    "\n",
    "df_O012791_merged.to_csv(\"C:\\\\Users\\\\lenovo\\\\Desktop\\\\stats214\\\\lab2wzh\\\\preciousdata\\\\O012791_merged.csv\", index=False)\n",
    "df_O013257_merged.to_csv(\"C:\\\\Users\\\\lenovo\\\\Desktop\\\\stats214\\\\lab2wzh\\\\preciousdata\\\\O013257_merged.csv\", index=False)\n",
    "df_O013490_merged.to_csv(\"C:\\\\Users\\\\lenovo\\\\Desktop\\\\stats214\\\\lab2wzh\\\\preciousdata\\\\O013490_merged.csv\", index=False)"
   ]
  }
 ],
 "metadata": {
  "kernelspec": {
   "display_name": "base",
   "language": "python",
   "name": "python3"
  },
  "language_info": {
   "codemirror_mode": {
    "name": "ipython",
    "version": 3
   },
   "file_extension": ".py",
   "mimetype": "text/x-python",
   "name": "python",
   "nbconvert_exporter": "python",
   "pygments_lexer": "ipython3",
   "version": "3.9.13"
  }
 },
 "nbformat": 4,
 "nbformat_minor": 2
}
